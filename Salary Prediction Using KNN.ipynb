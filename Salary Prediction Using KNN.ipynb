{
 "cells": [
  {
   "cell_type": "markdown",
   "metadata": {},
   "source": [
    "# Salary Prediction Using KNN"
   ]
  },
  {
   "cell_type": "markdown",
   "metadata": {},
   "source": [
    "### Importing important Libraries that are going to be used"
   ]
  },
  {
   "cell_type": "code",
   "execution_count": 2,
   "metadata": {},
   "outputs": [],
   "source": [
    "import pandas as pd\n",
    "from sklearn.neighbors import KNeighborsClassifier\n",
    "import numpy as np"
   ]
  },
  {
   "cell_type": "markdown",
   "metadata": {},
   "source": [
    "### Reading the dataset"
   ]
  },
  {
   "cell_type": "code",
   "execution_count": 3,
   "metadata": {},
   "outputs": [],
   "source": [
    "#from sklearn.model_selection import train_test_split\n",
    "employee_data = pd.read_csv('C:\\\\Users\\\\ayush\\\\Desktop\\\\5th Semester\\\\Artificial Intelligence\\\\Lab\\\\employee.csv')"
   ]
  },
  {
   "cell_type": "markdown",
   "metadata": {},
   "source": [
    "### Taking data as features and Target Class"
   ]
  },
  {
   "cell_type": "code",
   "execution_count": 4,
   "metadata": {},
   "outputs": [],
   "source": [
    "X = np.transpose([employee_data['experience'],employee_data['written_score'],employee_data['interview_score']])\n",
    "y = employee_data['salary']\n",
    "#X_train,y_train,X-test,y_test = train_test_split(employee_data,random_state = 0)"
   ]
  },
  {
   "cell_type": "markdown",
   "metadata": {},
   "source": [
    "### Running Various Simulations for different values of k"
   ]
  },
  {
   "cell_type": "code",
   "execution_count": 15,
   "metadata": {},
   "outputs": [
    {
     "name": "stdout",
     "output_type": "stream",
     "text": [
      "For k =  1  the predicted salary for 1st problem is:  55000\n",
      "For k =  1  the predicted salary for 2nd problem is:  48000\n",
      "\n",
      "For k =  2  the predicted salary for 1st problem is:  35000\n",
      "For k =  2  the predicted salary for 2nd problem is:  35000\n",
      "\n",
      "For k =  3  the predicted salary for 1st problem is:  35000\n",
      "For k =  3  the predicted salary for 2nd problem is:  35000\n",
      "\n",
      "For k =  4  the predicted salary for 1st problem is:  30000\n",
      "For k =  4  the predicted salary for 2nd problem is:  13000\n",
      "\n",
      "For k =  5  the predicted salary for 1st problem is:  20000\n",
      "For k =  5  the predicted salary for 2nd problem is:  55000\n",
      "\n",
      "For k =  6  the predicted salary for 1st problem is:  55000\n",
      "For k =  6  the predicted salary for 2nd problem is:  55000\n",
      "\n",
      "For k =  7  the predicted salary for 1st problem is:  55000\n",
      "For k =  7  the predicted salary for 2nd problem is:  55000\n",
      "\n",
      "For k =  8  the predicted salary for 1st problem is:  55000\n",
      "For k =  8  the predicted salary for 2nd problem is:  55000\n",
      "\n",
      "For k =  9  the predicted salary for 1st problem is:  55000\n",
      "For k =  9  the predicted salary for 2nd problem is:  55000\n",
      "\n",
      "For k =  10  the predicted salary for 1st problem is:  55000\n",
      "For k =  10  the predicted salary for 2nd problem is:  55000\n",
      "\n",
      "For k =  11  the predicted salary for 1st problem is:  55000\n",
      "For k =  11  the predicted salary for 2nd problem is:  55000\n",
      "\n",
      "For k =  12  the predicted salary for 1st problem is:  55000\n",
      "For k =  12  the predicted salary for 2nd problem is:  55000\n",
      "\n",
      "For k =  13  the predicted salary for 1st problem is:  55000\n",
      "For k =  13  the predicted salary for 2nd problem is:  55000\n",
      "\n",
      "For k =  14  the predicted salary for 1st problem is:  55000\n",
      "For k =  14  the predicted salary for 2nd problem is:  25000\n",
      "\n",
      "For k =  15  the predicted salary for 1st problem is:  55000\n",
      "For k =  15  the predicted salary for 2nd problem is:  25000\n",
      "\n",
      "For k =  16  the predicted salary for 1st problem is:  55000\n",
      "For k =  16  the predicted salary for 2nd problem is:  25000\n",
      "\n",
      "For k =  17  the predicted salary for 1st problem is:  25000\n",
      "For k =  17  the predicted salary for 2nd problem is:  25000\n",
      "\n",
      "For k =  18  the predicted salary for 1st problem is:  25000\n",
      "For k =  18  the predicted salary for 2nd problem is:  25000\n",
      "\n",
      "For k =  19  the predicted salary for 1st problem is:  25000\n",
      "For k =  19  the predicted salary for 2nd problem is:  25000\n",
      "\n",
      "For k =  20  the predicted salary for 1st problem is:  500\n",
      "For k =  20  the predicted salary for 2nd problem is:  500\n",
      "\n"
     ]
    }
   ],
   "source": [
    "first_problem = []\n",
    "second_problem = []\n",
    "for k in range(1,21):\n",
    "    model = KNeighborsClassifier(n_neighbors = k)\n",
    "    model.fit(X,y)\n",
    "    prediction_1 = model.predict([[5,8,10]])\n",
    "    prediction_2 = model.predict([[8,7,6]])\n",
    "    first_problem.append(prediction_1[0])\n",
    "    second_problem.append(prediction_2[0])\n",
    "    print(\"For k = \", k,\" the predicted salary for 1st problem is: \",prediction_1[0])\n",
    "    print(\"For k = \", k,\" the predicted salary for 2nd problem is: \",prediction_2[0])     \n",
    "    print()"
   ]
  },
  {
   "cell_type": "markdown",
   "metadata": {},
   "source": [
    "### Scatter Plot"
   ]
  },
  {
   "cell_type": "code",
   "execution_count": 24,
   "metadata": {},
   "outputs": [
    {
     "name": "stdout",
     "output_type": "stream",
     "text": [
      "[55000, 35000, 35000, 30000, 20000, 55000, 55000, 55000, 55000, 55000, 55000, 55000, 55000, 55000, 55000, 55000, 25000, 25000, 25000, 500]\n",
      "[48000, 35000, 35000, 13000, 55000, 55000, 55000, 55000, 55000, 55000, 55000, 55000, 55000, 25000, 25000, 25000, 25000, 25000, 25000, 500]\n",
      "[1, 2, 3, 4, 5, 6, 7, 8, 9, 10, 11, 12, 13, 14, 15, 16, 17, 18, 19, 20]\n"
     ]
    },
    {
     "data": {
      "text/plain": [
       "Text(0, 0.5, 'Salary')"
      ]
     },
     "execution_count": 24,
     "metadata": {},
     "output_type": "execute_result"
    },
    {
     "data": {
      "image/png": "[encoded data removed]",
      "text/plain": [
       "<Figure size 432x288 with 1 Axes>"
      ]
     },
     "metadata": {
      "needs_background": "light"
     },
     "output_type": "display_data"
    }
   ],
   "source": [
    "import matplotlib.pyplot as plt\n",
    "k = [x for x in range(1,21)]\n",
    "plt.scatter(k,first_problem,color='red',label='first')\n",
    "plt.scatter(k,second_problem,color='blue',label='second')\n",
    "plt.title('Changing Predictions with values of k')\n",
    "plt.xlabel('k')\n",
    "plt.ylabel('Salary')"
   ]
  },
  {
   "cell_type": "markdown",
   "metadata": {},
   "source": [
    "### Bar Plot"
   ]
  },
  {
   "cell_type": "code",
   "execution_count": 25,
   "metadata": {},
   "outputs": [
    {
     "data": {
      "text/plain": [
       "Text(0, 0.5, 'Salary')"
      ]
     },
     "execution_count": 25,
     "metadata": {},
     "output_type": "execute_result"
    },
    {
     "data": {
      "image/png": "[encoded data removed]",
      "text/plain": [
       "<Figure size 432x288 with 1 Axes>"
      ]
     },
     "metadata": {
      "needs_background": "light"
     },
     "output_type": "display_data"
    }
   ],
   "source": [
    "plt.bar(k,first_problem,color='red',label='first')\n",
    "plt.bar(k,second_problem,color='blue',label='second')\n",
    "plt.title('Changing Predictions with values of k')\n",
    "plt.xlabel('k')\n",
    "plt.ylabel('Salary')"
   ]
  }
 ],
 "metadata": {
  "kernelspec": {
   "display_name": "Python 3",
   "language": "python",
   "name": "python3"
  },
  "language_info": {
   "codemirror_mode": {
    "name": "ipython",
    "version": 3
   },
   "file_extension": ".py",
   "mimetype": "text/x-python",
   "name": "python",
   "nbconvert_exporter": "python",
   "pygments_lexer": "ipython3",
   "version": "3.7.6"
  }
 },
 "nbformat": 4,
 "nbformat_minor": 4
}
